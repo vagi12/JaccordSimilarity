import re
WORD = re.compile(r"\w+")

def text_to_set(text):
    words = WORD.findall(text)
    return set(words)

def jaccard_similarity(set1, set2):
    intersection = set1.intersection(set2)
    union = set1.union(set2)
    return len(intersection) / len(union)
